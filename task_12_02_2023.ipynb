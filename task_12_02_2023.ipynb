{
 "cells": [
  {
   "cell_type": "code",
   "execution_count": 1,
   "metadata": {},
   "outputs": [
    {
     "name": "stdout",
     "output_type": "stream",
     "text": [
      "I'm a python teacher\n"
     ]
    }
   ],
   "source": [
    "print(\"I'm a python teacher\")"
   ]
  },
  {
   "cell_type": "code",
   "execution_count": 2,
   "metadata": {},
   "outputs": [
    {
     "name": "stdout",
     "output_type": "stream",
     "text": [
      "I'm a python \n",
      "teacher\n"
     ]
    }
   ],
   "source": [
    "print(\"I'm a python \\nteacher\")"
   ]
  },
  {
   "cell_type": "code",
   "execution_count": 3,
   "metadata": {},
   "outputs": [
    {
     "name": "stdout",
     "output_type": "stream",
     "text": [
      "I'm a \n",
      "python \n",
      "teacher\n"
     ]
    }
   ],
   "source": [
    "print(\"I'm a \\npython \\nteacher\")"
   ]
  },
  {
   "cell_type": "code",
   "execution_count": 4,
   "metadata": {},
   "outputs": [
    {
     "name": "stdout",
     "output_type": "stream",
     "text": [
      "bugün python dersinin ikincisi.\n",
      "Ikınci derse yine tırnakları işleyerek başladık.\n",
      "İnşallah bi yerde biter bu tırnak mevzusu\n"
     ]
    }
   ],
   "source": [
    "print(\"\"\"bugün python dersinin ikincisi.\n",
    "Ikınci derse yine tırnakları işleyerek başladık.\n",
    "İnşallah bi yerde biter bu tırnak mevzusu\"\"\")"
   ]
  },
  {
   "cell_type": "code",
   "execution_count": 7,
   "metadata": {},
   "outputs": [
    {
     "name": "stdout",
     "output_type": "stream",
     "text": [
      "bugün python dersinin ikincisi.\n",
      "Ikınci derse yine tırnakları işleyerekbaşladık\n",
      "İnşallah bi yerde biter bu tırnak mevzusu\n"
     ]
    }
   ],
   "source": [
    "print(\"bugün python dersinin ikincisi.\\nIkınci derse yine tırnakları işleyerekbaşladık\\nİnşallah bi yerde biter bu tırnak mevzusu\")"
   ]
  },
  {
   "cell_type": "code",
   "execution_count": 8,
   "metadata": {},
   "outputs": [
    {
     "name": "stdout",
     "output_type": "stream",
     "text": [
      "bugün python dersinin ikincisi.\n",
      "Ikınci derse yine tırnakları işleyerekbaşladık İnşallah bi yerde biter bu tırnak mevzusu\n"
     ]
    }
   ],
   "source": [
    "print(\"bugün python dersinin ikincisi.\\nIkınci derse yine tırnakları işleyerekbaşladık İnşallah bi yerde biter bu tırnak mevzusu\")"
   ]
  },
  {
   "cell_type": "code",
   "execution_count": 9,
   "metadata": {},
   "outputs": [
    {
     "name": "stdout",
     "output_type": "stream",
     "text": [
      "elma armut\n"
     ]
    }
   ],
   "source": [
    "print(\"elma\",\"armut\")"
   ]
  },
  {
   "cell_type": "code",
   "execution_count": 11,
   "metadata": {},
   "outputs": [
    {
     "name": "stdout",
     "output_type": "stream",
     "text": [
      "elmaarmut\n"
     ]
    }
   ],
   "source": [
    "print(\"elma\",\"armut\",sep=\"\")"
   ]
  },
  {
   "cell_type": "code",
   "execution_count": 12,
   "metadata": {},
   "outputs": [
    {
     "name": "stdout",
     "output_type": "stream",
     "text": [
      "elma armut\n"
     ]
    }
   ],
   "source": [
    "print(\"elma\",\"armut\",sep=\" \")"
   ]
  },
  {
   "cell_type": "code",
   "execution_count": 13,
   "metadata": {},
   "outputs": [
    {
     "name": "stdout",
     "output_type": "stream",
     "text": [
      "elma*armut\n"
     ]
    }
   ],
   "source": [
    "print(\"elma\",\"armut\",sep=\"*\")"
   ]
  },
  {
   "cell_type": "code",
   "execution_count": 14,
   "metadata": {},
   "outputs": [
    {
     "name": "stdout",
     "output_type": "stream",
     "text": [
      "elmaarmut"
     ]
    }
   ],
   "source": [
    "print(\"elma\",\"armut\",sep=\"\",end=\"\")"
   ]
  },
  {
   "cell_type": "code",
   "execution_count": 16,
   "metadata": {},
   "outputs": [
    {
     "name": "stdout",
     "output_type": "stream",
     "text": [
      "elma armut*"
     ]
    }
   ],
   "source": [
    "print(\"elma\",\"armut\",sep=\" \",end=\"*\")"
   ]
  },
  {
   "cell_type": "code",
   "execution_count": 22,
   "metadata": {},
   "outputs": [
    {
     "name": "stdout",
     "output_type": "stream",
     "text": [
      "elma armut*elma\n"
     ]
    }
   ],
   "source": [
    "print(\"elma\",\"armut\",sep=\" \",end=\"*\")\n",
    "print(\"elma\")"
   ]
  },
  {
   "cell_type": "code",
   "execution_count": 24,
   "metadata": {},
   "outputs": [
    {
     "name": "stdout",
     "output_type": "stream",
     "text": [
      "elma armut\n",
      "elma\n"
     ]
    }
   ],
   "source": [
    "print(\"elma\",\"armut\",sep=\" \",end=\"\\n\")\n",
    "print(\"elma\")"
   ]
  },
  {
   "cell_type": "code",
   "execution_count": null,
   "metadata": {},
   "outputs": [],
   "source": []
  }
 ],
 "metadata": {
  "kernelspec": {
   "display_name": "Python 3",
   "language": "python",
   "name": "python3"
  },
  "language_info": {
   "codemirror_mode": {
    "name": "ipython",
    "version": 3
   },
   "file_extension": ".py",
   "mimetype": "text/x-python",
   "name": "python",
   "nbconvert_exporter": "python",
   "pygments_lexer": "ipython3",
   "version": "3.11.2"
  },
  "orig_nbformat": 4,
  "vscode": {
   "interpreter": {
    "hash": "b6f6a7bb10ba9d8da24679aa7c156bc8c77d63457212bc849342bf9244f013b6"
   }
  }
 },
 "nbformat": 4,
 "nbformat_minor": 2
}
