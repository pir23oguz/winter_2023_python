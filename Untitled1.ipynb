{
 "cells": [
  {
   "cell_type": "markdown",
   "id": "f655d648",
   "metadata": {},
   "source": [
    "# Deneme"
   ]
  },
  {
   "cell_type": "markdown",
   "id": "822977bf",
   "metadata": {},
   "source": [
    "* Bu bir denemedir"
   ]
  },
  {
   "cell_type": "code",
   "execution_count": 1,
   "id": "e57f2b8e",
   "metadata": {},
   "outputs": [
    {
     "name": "stdout",
     "output_type": "stream",
     "text": [
      "2\n"
     ]
    }
   ],
   "source": [
    "x = 2\n",
    "print(x)"
   ]
  },
  {
   "cell_type": "code",
   "execution_count": 4,
   "id": "fde7b29f",
   "metadata": {},
   "outputs": [],
   "source": [
    "x = 2 + 5 - 4 + 8"
   ]
  },
  {
   "cell_type": "code",
   "execution_count": 5,
   "id": "a2925b7d",
   "metadata": {},
   "outputs": [
    {
     "name": "stdout",
     "output_type": "stream",
     "text": [
      "11\n"
     ]
    }
   ],
   "source": [
    "print(x)"
   ]
  },
  {
   "cell_type": "code",
   "execution_count": 7,
   "id": "c4b32274",
   "metadata": {},
   "outputs": [
    {
     "data": {
      "text/plain": [
       "3.0"
      ]
     },
     "execution_count": 7,
     "metadata": {},
     "output_type": "execute_result"
    }
   ],
   "source": [
    "3.\n"
   ]
  },
  {
   "cell_type": "code",
   "execution_count": 8,
   "id": "edf8f81b",
   "metadata": {},
   "outputs": [
    {
     "data": {
      "text/plain": [
       "True"
      ]
     },
     "execution_count": 8,
     "metadata": {},
     "output_type": "execute_result"
    }
   ],
   "source": [
    "True"
   ]
  },
  {
   "cell_type": "code",
   "execution_count": 9,
   "id": "232e09a4",
   "metadata": {},
   "outputs": [
    {
     "ename": "NameError",
     "evalue": "name 'true' is not defined",
     "output_type": "error",
     "traceback": [
      "\u001b[1;31m---------------------------------------------------------------------------\u001b[0m",
      "\u001b[1;31mNameError\u001b[0m                                 Traceback (most recent call last)",
      "\u001b[1;32m~\\AppData\\Local\\Temp\\ipykernel_10432\\592217714.py\u001b[0m in \u001b[0;36m<module>\u001b[1;34m\u001b[0m\n\u001b[1;32m----> 1\u001b[1;33m \u001b[0mtrue\u001b[0m\u001b[1;33m\u001b[0m\u001b[1;33m\u001b[0m\u001b[0m\n\u001b[0m",
      "\u001b[1;31mNameError\u001b[0m: name 'true' is not defined"
     ]
    }
   ],
   "source": [
    "true"
   ]
  },
  {
   "cell_type": "code",
   "execution_count": 10,
   "id": "0b0845c6",
   "metadata": {},
   "outputs": [
    {
     "data": {
      "text/plain": [
       "False"
      ]
     },
     "execution_count": 10,
     "metadata": {},
     "output_type": "execute_result"
    }
   ],
   "source": [
    "False"
   ]
  },
  {
   "cell_type": "code",
   "execution_count": 11,
   "id": "a90fcdaf",
   "metadata": {},
   "outputs": [
    {
     "data": {
      "text/plain": [
       "True"
      ]
     },
     "execution_count": 11,
     "metadata": {},
     "output_type": "execute_result"
    }
   ],
   "source": [
    "3<5"
   ]
  },
  {
   "cell_type": "code",
   "execution_count": 12,
   "id": "988b9eae",
   "metadata": {},
   "outputs": [
    {
     "data": {
      "text/plain": [
       "False"
      ]
     },
     "execution_count": 12,
     "metadata": {},
     "output_type": "execute_result"
    }
   ],
   "source": [
    "5>6"
   ]
  },
  {
   "cell_type": "code",
   "execution_count": 13,
   "id": "7804f618",
   "metadata": {},
   "outputs": [
    {
     "data": {
      "text/plain": [
       "int"
      ]
     },
     "execution_count": 13,
     "metadata": {},
     "output_type": "execute_result"
    }
   ],
   "source": [
    "type(2)"
   ]
  },
  {
   "cell_type": "code",
   "execution_count": 14,
   "id": "d9fef636",
   "metadata": {},
   "outputs": [
    {
     "data": {
      "text/plain": [
       "float"
      ]
     },
     "execution_count": 14,
     "metadata": {},
     "output_type": "execute_result"
    }
   ],
   "source": [
    "type(3.5)"
   ]
  },
  {
   "cell_type": "code",
   "execution_count": 15,
   "id": "2b625766",
   "metadata": {},
   "outputs": [
    {
     "ename": "NameError",
     "evalue": "name 'e' is not defined",
     "output_type": "error",
     "traceback": [
      "\u001b[1;31m---------------------------------------------------------------------------\u001b[0m",
      "\u001b[1;31mNameError\u001b[0m                                 Traceback (most recent call last)",
      "\u001b[1;32m~\\AppData\\Local\\Temp\\ipykernel_10432\\1265958105.py\u001b[0m in \u001b[0;36m<module>\u001b[1;34m\u001b[0m\n\u001b[1;32m----> 1\u001b[1;33m \u001b[0mtype\u001b[0m\u001b[1;33m(\u001b[0m\u001b[0me\u001b[0m\u001b[1;33m)\u001b[0m\u001b[1;33m\u001b[0m\u001b[1;33m\u001b[0m\u001b[0m\n\u001b[0m",
      "\u001b[1;31mNameError\u001b[0m: name 'e' is not defined"
     ]
    }
   ],
   "source": [
    "type(e)"
   ]
  },
  {
   "cell_type": "code",
   "execution_count": 16,
   "id": "a692b7ed",
   "metadata": {},
   "outputs": [
    {
     "data": {
      "text/plain": [
       "str"
      ]
     },
     "execution_count": 16,
     "metadata": {},
     "output_type": "execute_result"
    }
   ],
   "source": [
    "type(\"e\")"
   ]
  },
  {
   "cell_type": "code",
   "execution_count": 17,
   "id": "477b3716",
   "metadata": {},
   "outputs": [
    {
     "data": {
      "text/plain": [
       "bool"
      ]
     },
     "execution_count": 17,
     "metadata": {},
     "output_type": "execute_result"
    }
   ],
   "source": [
    "type(False)"
   ]
  },
  {
   "cell_type": "code",
   "execution_count": 18,
   "id": "2b17875b",
   "metadata": {},
   "outputs": [
    {
     "data": {
      "text/plain": [
       "2"
      ]
     },
     "execution_count": 18,
     "metadata": {},
     "output_type": "execute_result"
    }
   ],
   "source": [
    "int(2.4)"
   ]
  },
  {
   "cell_type": "code",
   "execution_count": 19,
   "id": "85f57f8d",
   "metadata": {},
   "outputs": [
    {
     "data": {
      "text/plain": [
       "2"
      ]
     },
     "execution_count": 19,
     "metadata": {},
     "output_type": "execute_result"
    }
   ],
   "source": [
    "int(2.4)"
   ]
  },
  {
   "cell_type": "code",
   "execution_count": 22,
   "id": "b970fc64",
   "metadata": {},
   "outputs": [
    {
     "data": {
      "text/plain": [
       "2"
      ]
     },
     "execution_count": 22,
     "metadata": {},
     "output_type": "execute_result"
    }
   ],
   "source": [
    "int(2.4)\n",
    "# Noktadan sonra yazilanlari almaz."
   ]
  },
  {
   "cell_type": "code",
   "execution_count": 23,
   "id": "b41e5301",
   "metadata": {},
   "outputs": [
    {
     "ename": "NameError",
     "evalue": "name 'fload' is not defined",
     "output_type": "error",
     "traceback": [
      "\u001b[1;31m---------------------------------------------------------------------------\u001b[0m",
      "\u001b[1;31mNameError\u001b[0m                                 Traceback (most recent call last)",
      "\u001b[1;32m~\\AppData\\Local\\Temp\\ipykernel_10432\\3110991278.py\u001b[0m in \u001b[0;36m<module>\u001b[1;34m\u001b[0m\n\u001b[1;32m----> 1\u001b[1;33m \u001b[0mfload\u001b[0m\u001b[1;33m(\u001b[0m\u001b[1;36m4.2\u001b[0m\u001b[1;33m)\u001b[0m\u001b[1;33m\u001b[0m\u001b[1;33m\u001b[0m\u001b[0m\n\u001b[0m",
      "\u001b[1;31mNameError\u001b[0m: name 'fload' is not defined"
     ]
    }
   ],
   "source": [
    "fload(4.2)"
   ]
  },
  {
   "cell_type": "code",
   "execution_count": 24,
   "id": "eb7fbf3c",
   "metadata": {},
   "outputs": [
    {
     "data": {
      "text/plain": [
       "4.2"
      ]
     },
     "execution_count": 24,
     "metadata": {},
     "output_type": "execute_result"
    }
   ],
   "source": [
    "float(4.2)"
   ]
  },
  {
   "cell_type": "code",
   "execution_count": 25,
   "id": "d7a89c83",
   "metadata": {},
   "outputs": [
    {
     "data": {
      "text/plain": [
       "4.0"
      ]
     },
     "execution_count": 25,
     "metadata": {},
     "output_type": "execute_result"
    }
   ],
   "source": [
    "float(4)"
   ]
  },
  {
   "cell_type": "markdown",
   "id": "e52f00f4",
   "metadata": {},
   "source": [
    "# 4. Ders"
   ]
  },
  {
   "cell_type": "code",
   "execution_count": 26,
   "id": "ae4b7097",
   "metadata": {},
   "outputs": [],
   "source": [
    "a = 2"
   ]
  },
  {
   "cell_type": "code",
   "execution_count": 27,
   "id": "d06b82be",
   "metadata": {},
   "outputs": [
    {
     "data": {
      "text/plain": [
       "2"
      ]
     },
     "execution_count": 27,
     "metadata": {},
     "output_type": "execute_result"
    }
   ],
   "source": [
    "a"
   ]
  },
  {
   "cell_type": "code",
   "execution_count": 28,
   "id": "6dc5a5a5",
   "metadata": {},
   "outputs": [
    {
     "data": {
      "text/plain": [
       "7"
      ]
     },
     "execution_count": 28,
     "metadata": {},
     "output_type": "execute_result"
    }
   ],
   "source": [
    "a + 5"
   ]
  },
  {
   "cell_type": "code",
   "execution_count": 29,
   "id": "0335e9a8",
   "metadata": {},
   "outputs": [
    {
     "data": {
      "text/plain": [
       "2"
      ]
     },
     "execution_count": 29,
     "metadata": {},
     "output_type": "execute_result"
    }
   ],
   "source": [
    "a"
   ]
  },
  {
   "cell_type": "code",
   "execution_count": 31,
   "id": "d34dcadb",
   "metadata": {},
   "outputs": [],
   "source": [
    "b = 2 + 4"
   ]
  },
  {
   "cell_type": "code",
   "execution_count": 32,
   "id": "0e0324e9",
   "metadata": {},
   "outputs": [
    {
     "data": {
      "text/plain": [
       "6"
      ]
     },
     "execution_count": 32,
     "metadata": {},
     "output_type": "execute_result"
    }
   ],
   "source": [
    "b"
   ]
  },
  {
   "cell_type": "code",
   "execution_count": 33,
   "id": "82c5ef65",
   "metadata": {},
   "outputs": [
    {
     "data": {
      "text/plain": [
       "15"
      ]
     },
     "execution_count": 33,
     "metadata": {},
     "output_type": "execute_result"
    }
   ],
   "source": [
    "b + 9"
   ]
  },
  {
   "cell_type": "code",
   "execution_count": 34,
   "id": "c76e3019",
   "metadata": {},
   "outputs": [],
   "source": [
    "a = 2"
   ]
  },
  {
   "cell_type": "code",
   "execution_count": 35,
   "id": "d42b726f",
   "metadata": {},
   "outputs": [],
   "source": [
    "a = a+5"
   ]
  },
  {
   "cell_type": "code",
   "execution_count": 38,
   "id": "e8883f57",
   "metadata": {},
   "outputs": [],
   "source": [
    "b = a + 3"
   ]
  },
  {
   "cell_type": "code",
   "execution_count": 39,
   "id": "15af02a0",
   "metadata": {},
   "outputs": [
    {
     "data": {
      "text/plain": [
       "10"
      ]
     },
     "execution_count": 39,
     "metadata": {},
     "output_type": "execute_result"
    }
   ],
   "source": [
    "a"
   ]
  },
  {
   "cell_type": "code",
   "execution_count": null,
   "id": "cd5d0849",
   "metadata": {},
   "outputs": [],
   "source": [
    "b"
   ]
  },
  {
   "cell_type": "markdown",
   "id": "659ddbea",
   "metadata": {},
   "source": [
    "### Ornek"
   ]
  },
  {
   "cell_type": "markdown",
   "id": "40773961",
   "metadata": {},
   "source": [
    "* Limon Saticisi"
   ]
  },
  {
   "cell_type": "code",
   "execution_count": 76,
   "id": "75b47034",
   "metadata": {},
   "outputs": [],
   "source": [
    "limon_fiyati = 10 "
   ]
  },
  {
   "cell_type": "code",
   "execution_count": 89,
   "id": "dc453f77",
   "metadata": {},
   "outputs": [],
   "source": [
    "# limon_fiyati = 15"
   ]
  },
  {
   "cell_type": "code",
   "execution_count": 90,
   "id": "4e23152b",
   "metadata": {},
   "outputs": [],
   "source": [
    "s1 = limon_fiyati * 100"
   ]
  },
  {
   "cell_type": "code",
   "execution_count": 91,
   "id": "be28e2c4",
   "metadata": {},
   "outputs": [],
   "source": [
    "s2 = limon_fiyati * 70"
   ]
  },
  {
   "cell_type": "code",
   "execution_count": 92,
   "id": "e3a6b623",
   "metadata": {},
   "outputs": [],
   "source": [
    "s3 = limon_fiyati * 30"
   ]
  },
  {
   "cell_type": "code",
   "execution_count": 93,
   "id": "11b5e686",
   "metadata": {},
   "outputs": [
    {
     "name": "stdout",
     "output_type": "stream",
     "text": [
      "1500\n"
     ]
    }
   ],
   "source": [
    "print(s1)"
   ]
  },
  {
   "cell_type": "code",
   "execution_count": 85,
   "id": "fc39cfa5",
   "metadata": {},
   "outputs": [
    {
     "name": "stdout",
     "output_type": "stream",
     "text": [
      "700\n"
     ]
    }
   ],
   "source": [
    "print(s2)"
   ]
  },
  {
   "cell_type": "code",
   "execution_count": 82,
   "id": "1ca83131",
   "metadata": {},
   "outputs": [
    {
     "name": "stdout",
     "output_type": "stream",
     "text": [
      "300\n"
     ]
    }
   ],
   "source": [
    "print(s3)"
   ]
  },
  {
   "cell_type": "markdown",
   "id": "8d7e9163",
   "metadata": {},
   "source": [
    "* 2. yol"
   ]
  },
  {
   "cell_type": "code",
   "execution_count": 49,
   "id": "10a72fce",
   "metadata": {},
   "outputs": [],
   "source": [
    "s1 = 10 * 100"
   ]
  },
  {
   "cell_type": "code",
   "execution_count": 50,
   "id": "c0b096c5",
   "metadata": {},
   "outputs": [],
   "source": [
    "s2 = 10 * 70"
   ]
  },
  {
   "cell_type": "code",
   "execution_count": 51,
   "id": "8540ea5e",
   "metadata": {},
   "outputs": [],
   "source": [
    "s3 = 10 * 30"
   ]
  },
  {
   "cell_type": "code",
   "execution_count": 52,
   "id": "d3addef3",
   "metadata": {},
   "outputs": [
    {
     "name": "stdout",
     "output_type": "stream",
     "text": [
      "1000\n"
     ]
    }
   ],
   "source": [
    "print(s1)"
   ]
  },
  {
   "cell_type": "code",
   "execution_count": 53,
   "id": "2cd58fbf",
   "metadata": {},
   "outputs": [
    {
     "name": "stdout",
     "output_type": "stream",
     "text": [
      "700\n"
     ]
    }
   ],
   "source": [
    "print(s2)"
   ]
  },
  {
   "cell_type": "code",
   "execution_count": 54,
   "id": "80e53a6c",
   "metadata": {},
   "outputs": [
    {
     "name": "stdout",
     "output_type": "stream",
     "text": [
      "300\n"
     ]
    }
   ],
   "source": [
    "print(s3)"
   ]
  },
  {
   "cell_type": "markdown",
   "id": "a7d3d9c0",
   "metadata": {},
   "source": [
    "## 6. ders"
   ]
  },
  {
   "cell_type": "code",
   "execution_count": 95,
   "id": "7f303650",
   "metadata": {},
   "outputs": [
    {
     "data": {
      "text/plain": [
       "4"
      ]
     },
     "execution_count": 95,
     "metadata": {},
     "output_type": "execute_result"
    }
   ],
   "source": [
    "2 + 2"
   ]
  },
  {
   "cell_type": "code",
   "execution_count": 96,
   "id": "bef61ac7",
   "metadata": {},
   "outputs": [
    {
     "data": {
      "text/plain": [
       "int"
      ]
     },
     "execution_count": 96,
     "metadata": {},
     "output_type": "execute_result"
    }
   ],
   "source": [
    "type(2+2)"
   ]
  },
  {
   "cell_type": "code",
   "execution_count": 97,
   "id": "7994d67a",
   "metadata": {},
   "outputs": [
    {
     "data": {
      "text/plain": [
       "-1"
      ]
     },
     "execution_count": 97,
     "metadata": {},
     "output_type": "execute_result"
    }
   ],
   "source": [
    "2 - 3"
   ]
  },
  {
   "cell_type": "code",
   "execution_count": 98,
   "id": "23bad1c8",
   "metadata": {},
   "outputs": [
    {
     "data": {
      "text/plain": [
       "int"
      ]
     },
     "execution_count": 98,
     "metadata": {},
     "output_type": "execute_result"
    }
   ],
   "source": [
    "type(-1)"
   ]
  },
  {
   "cell_type": "code",
   "execution_count": 99,
   "id": "d9259b1c",
   "metadata": {},
   "outputs": [
    {
     "data": {
      "text/plain": [
       "int"
      ]
     },
     "execution_count": 99,
     "metadata": {},
     "output_type": "execute_result"
    }
   ],
   "source": [
    "type(2-3)"
   ]
  },
  {
   "cell_type": "code",
   "execution_count": 100,
   "id": "7a4245bd",
   "metadata": {},
   "outputs": [
    {
     "data": {
      "text/plain": [
       "1.0"
      ]
     },
     "execution_count": 100,
     "metadata": {},
     "output_type": "execute_result"
    }
   ],
   "source": [
    "5/5"
   ]
  },
  {
   "cell_type": "code",
   "execution_count": 101,
   "id": "0d1be5b5",
   "metadata": {},
   "outputs": [
    {
     "data": {
      "text/plain": [
       "0"
      ]
     },
     "execution_count": 101,
     "metadata": {},
     "output_type": "execute_result"
    }
   ],
   "source": [
    "5//8"
   ]
  },
  {
   "cell_type": "code",
   "execution_count": 102,
   "id": "1c666053",
   "metadata": {},
   "outputs": [
    {
     "data": {
      "text/plain": [
       "int"
      ]
     },
     "execution_count": 102,
     "metadata": {},
     "output_type": "execute_result"
    }
   ],
   "source": [
    "type(5//8)"
   ]
  },
  {
   "cell_type": "code",
   "execution_count": 103,
   "id": "cf198c12",
   "metadata": {},
   "outputs": [
    {
     "data": {
      "text/plain": [
       "1"
      ]
     },
     "execution_count": 103,
     "metadata": {},
     "output_type": "execute_result"
    }
   ],
   "source": [
    "5 % 2"
   ]
  },
  {
   "cell_type": "code",
   "execution_count": 104,
   "id": "977b82fd",
   "metadata": {},
   "outputs": [
    {
     "data": {
      "text/plain": [
       "1"
      ]
     },
     "execution_count": 104,
     "metadata": {},
     "output_type": "execute_result"
    }
   ],
   "source": [
    "4 % 3"
   ]
  },
  {
   "cell_type": "code",
   "execution_count": 108,
   "id": "269828e7",
   "metadata": {},
   "outputs": [
    {
     "data": {
      "text/plain": [
       "512"
      ]
     },
     "execution_count": 108,
     "metadata": {},
     "output_type": "execute_result"
    }
   ],
   "source": [
    "2 ** 9"
   ]
  },
  {
   "cell_type": "code",
   "execution_count": 106,
   "id": "a7cb3067",
   "metadata": {},
   "outputs": [
    {
     "data": {
      "text/plain": [
       "1024"
      ]
     },
     "execution_count": 106,
     "metadata": {},
     "output_type": "execute_result"
    }
   ],
   "source": [
    "2 ** 10"
   ]
  },
  {
   "cell_type": "code",
   "execution_count": 109,
   "id": "82b8c77a",
   "metadata": {},
   "outputs": [
    {
     "data": {
      "text/plain": [
       "79.62623999999998"
      ]
     },
     "execution_count": 109,
     "metadata": {},
     "output_type": "execute_result"
    }
   ],
   "source": [
    "2.4 ** 5"
   ]
  },
  {
   "cell_type": "code",
   "execution_count": 110,
   "id": "f2bfd3a5",
   "metadata": {},
   "outputs": [
    {
     "data": {
      "text/plain": [
       "9.0"
      ]
     },
     "execution_count": 110,
     "metadata": {},
     "output_type": "execute_result"
    }
   ],
   "source": [
    "3.0 ** 2"
   ]
  },
  {
   "cell_type": "code",
   "execution_count": 111,
   "id": "bef83726",
   "metadata": {},
   "outputs": [
    {
     "data": {
      "text/plain": [
       "0.2"
      ]
     },
     "execution_count": 111,
     "metadata": {},
     "output_type": "execute_result"
    }
   ],
   "source": [
    "5 ** -1"
   ]
  },
  {
   "cell_type": "code",
   "execution_count": 112,
   "id": "b6fd96bd",
   "metadata": {},
   "outputs": [
    {
     "name": "stdout",
     "output_type": "stream",
     "text": [
      "5\n"
     ]
    }
   ],
   "source": [
    "print(5)"
   ]
  },
  {
   "cell_type": "code",
   "execution_count": 113,
   "id": "8ad06b20",
   "metadata": {},
   "outputs": [
    {
     "ename": "SyntaxError",
     "evalue": "invalid syntax (374595779.py, line 1)",
     "output_type": "error",
     "traceback": [
      "\u001b[1;36m  File \u001b[1;32m\"C:\\Users\\pir23oguz\\AppData\\Local\\Temp\\ipykernel_10432\\374595779.py\"\u001b[1;36m, line \u001b[1;32m1\u001b[0m\n\u001b[1;33m    \"\"5\u001b[0m\n\u001b[1;37m      ^\u001b[0m\n\u001b[1;31mSyntaxError\u001b[0m\u001b[1;31m:\u001b[0m invalid syntax\n"
     ]
    }
   ],
   "source": [
    "\"\"5"
   ]
  },
  {
   "cell_type": "code",
   "execution_count": 114,
   "id": "e926dee7",
   "metadata": {},
   "outputs": [
    {
     "data": {
      "text/plain": [
       "'5'"
      ]
     },
     "execution_count": 114,
     "metadata": {},
     "output_type": "execute_result"
    }
   ],
   "source": [
    "\"5\""
   ]
  },
  {
   "cell_type": "code",
   "execution_count": 115,
   "id": "4091bc1b",
   "metadata": {},
   "outputs": [
    {
     "data": {
      "text/plain": [
       "'5'"
      ]
     },
     "execution_count": 115,
     "metadata": {},
     "output_type": "execute_result"
    }
   ],
   "source": [
    "\"5\""
   ]
  },
  {
   "cell_type": "code",
   "execution_count": 116,
   "id": "d2573ff0",
   "metadata": {},
   "outputs": [
    {
     "data": {
      "text/plain": [
       "'5'"
      ]
     },
     "execution_count": 116,
     "metadata": {},
     "output_type": "execute_result"
    }
   ],
   "source": [
    "'5'"
   ]
  },
  {
   "cell_type": "code",
   "execution_count": 117,
   "id": "8a9a4c82",
   "metadata": {},
   "outputs": [
    {
     "data": {
      "text/plain": [
       "' '"
      ]
     },
     "execution_count": 117,
     "metadata": {},
     "output_type": "execute_result"
    }
   ],
   "source": [
    "\" \""
   ]
  },
  {
   "cell_type": "code",
   "execution_count": 118,
   "id": "87886340",
   "metadata": {},
   "outputs": [
    {
     "data": {
      "text/plain": [
       "'q'"
      ]
     },
     "execution_count": 118,
     "metadata": {},
     "output_type": "execute_result"
    }
   ],
   "source": [
    "\"q\""
   ]
  },
  {
   "cell_type": "code",
   "execution_count": 119,
   "id": "b12a51ec",
   "metadata": {},
   "outputs": [
    {
     "ename": "SyntaxError",
     "evalue": "invalid syntax (3492015803.py, line 1)",
     "output_type": "error",
     "traceback": [
      "\u001b[1;36m  File \u001b[1;32m\"C:\\Users\\pir23oguz\\AppData\\Local\\Temp\\ipykernel_10432\\3492015803.py\"\u001b[1;36m, line \u001b[1;32m1\u001b[0m\n\u001b[1;33m    ''a''\u001b[0m\n\u001b[1;37m      ^\u001b[0m\n\u001b[1;31mSyntaxError\u001b[0m\u001b[1;31m:\u001b[0m invalid syntax\n"
     ]
    }
   ],
   "source": [
    "''a''"
   ]
  },
  {
   "cell_type": "code",
   "execution_count": 120,
   "id": "4d33156c",
   "metadata": {},
   "outputs": [
    {
     "ename": "NameError",
     "evalue": "name 'á' is not defined",
     "output_type": "error",
     "traceback": [
      "\u001b[1;31m---------------------------------------------------------------------------\u001b[0m",
      "\u001b[1;31mNameError\u001b[0m                                 Traceback (most recent call last)",
      "\u001b[1;32m~\\AppData\\Local\\Temp\\ipykernel_10432\\3013747456.py\u001b[0m in \u001b[0;36m<module>\u001b[1;34m\u001b[0m\n\u001b[1;32m----> 1\u001b[1;33m \u001b[0má\u001b[0m\u001b[1;33m\u001b[0m\u001b[1;33m\u001b[0m\u001b[0m\n\u001b[0m",
      "\u001b[1;31mNameError\u001b[0m: name 'á' is not defined"
     ]
    }
   ],
   "source": [
    "á"
   ]
  },
  {
   "cell_type": "code",
   "execution_count": 121,
   "id": "7e9401ef",
   "metadata": {},
   "outputs": [
    {
     "ename": "SyntaxError",
     "evalue": "invalid syntax (1259914055.py, line 1)",
     "output_type": "error",
     "traceback": [
      "\u001b[1;36m  File \u001b[1;32m\"C:\\Users\\pir23oguz\\AppData\\Local\\Temp\\ipykernel_10432\\1259914055.py\"\u001b[1;36m, line \u001b[1;32m1\u001b[0m\n\u001b[1;33m    s'\"''|\"\u001b[0m\n\u001b[1;37m     ^\u001b[0m\n\u001b[1;31mSyntaxError\u001b[0m\u001b[1;31m:\u001b[0m invalid syntax\n"
     ]
    }
   ],
   "source": [
    "s'\"''|\""
   ]
  },
  {
   "cell_type": "code",
   "execution_count": 122,
   "id": "c9ea0e90",
   "metadata": {},
   "outputs": [
    {
     "data": {
      "text/plain": [
       "'a'"
      ]
     },
     "execution_count": 122,
     "metadata": {},
     "output_type": "execute_result"
    }
   ],
   "source": [
    "\"a\""
   ]
  },
  {
   "cell_type": "code",
   "execution_count": 123,
   "id": "06ca7a6d",
   "metadata": {},
   "outputs": [
    {
     "data": {
      "text/plain": [
       "'a'"
      ]
     },
     "execution_count": 123,
     "metadata": {},
     "output_type": "execute_result"
    }
   ],
   "source": [
    "'a'"
   ]
  },
  {
   "cell_type": "code",
   "execution_count": 124,
   "id": "c45542be",
   "metadata": {},
   "outputs": [
    {
     "data": {
      "text/plain": [
       "'2'"
      ]
     },
     "execution_count": 124,
     "metadata": {},
     "output_type": "execute_result"
    }
   ],
   "source": [
    "\"2\""
   ]
  },
  {
   "cell_type": "code",
   "execution_count": 125,
   "id": "d69f9fe6",
   "metadata": {},
   "outputs": [
    {
     "data": {
      "text/plain": [
       "'d'"
      ]
     },
     "execution_count": 125,
     "metadata": {},
     "output_type": "execute_result"
    }
   ],
   "source": [
    "'d'"
   ]
  },
  {
   "cell_type": "code",
   "execution_count": 126,
   "id": "bc3dc3da",
   "metadata": {},
   "outputs": [
    {
     "data": {
      "text/plain": [
       "'j'"
      ]
     },
     "execution_count": 126,
     "metadata": {},
     "output_type": "execute_result"
    }
   ],
   "source": [
    "'j'"
   ]
  },
  {
   "cell_type": "code",
   "execution_count": 127,
   "id": "831650a5",
   "metadata": {},
   "outputs": [
    {
     "ename": "NameError",
     "evalue": "name 'd' is not defined",
     "output_type": "error",
     "traceback": [
      "\u001b[1;31m---------------------------------------------------------------------------\u001b[0m",
      "\u001b[1;31mNameError\u001b[0m                                 Traceback (most recent call last)",
      "\u001b[1;32m~\\AppData\\Local\\Temp\\ipykernel_10432\\1152398069.py\u001b[0m in \u001b[0;36m<module>\u001b[1;34m\u001b[0m\n\u001b[1;32m----> 1\u001b[1;33m \u001b[0mprint\u001b[0m\u001b[1;33m(\u001b[0m\u001b[0md\u001b[0m\u001b[1;33m)\u001b[0m\u001b[1;33m\u001b[0m\u001b[1;33m\u001b[0m\u001b[0m\n\u001b[0m",
      "\u001b[1;31mNameError\u001b[0m: name 'd' is not defined"
     ]
    }
   ],
   "source": [
    "print(d)"
   ]
  },
  {
   "cell_type": "code",
   "execution_count": 128,
   "id": "08c7ab37",
   "metadata": {},
   "outputs": [
    {
     "name": "stdout",
     "output_type": "stream",
     "text": [
      "d\n"
     ]
    }
   ],
   "source": [
    "print('d')"
   ]
  },
  {
   "cell_type": "code",
   "execution_count": 129,
   "id": "7babb9c8",
   "metadata": {},
   "outputs": [
    {
     "name": "stdout",
     "output_type": "stream",
     "text": [
      "5\n"
     ]
    }
   ],
   "source": [
    "print(\"5\")"
   ]
  },
  {
   "cell_type": "code",
   "execution_count": 130,
   "id": "258c1d5f",
   "metadata": {},
   "outputs": [
    {
     "data": {
      "text/plain": [
       "'a\"'"
      ]
     },
     "execution_count": 130,
     "metadata": {},
     "output_type": "execute_result"
    }
   ],
   "source": [
    "'a\"'"
   ]
  },
  {
   "cell_type": "code",
   "execution_count": 131,
   "id": "a9d091c1",
   "metadata": {},
   "outputs": [
    {
     "data": {
      "text/plain": [
       "'3=5'"
      ]
     },
     "execution_count": 131,
     "metadata": {},
     "output_type": "execute_result"
    }
   ],
   "source": [
    "\"3=5\""
   ]
  },
  {
   "cell_type": "code",
   "execution_count": 132,
   "id": "27ec1e43",
   "metadata": {},
   "outputs": [
    {
     "data": {
      "text/plain": [
       "'4+9'"
      ]
     },
     "execution_count": 132,
     "metadata": {},
     "output_type": "execute_result"
    }
   ],
   "source": [
    "\"4+9\""
   ]
  },
  {
   "cell_type": "code",
   "execution_count": 133,
   "id": "cec8c802",
   "metadata": {},
   "outputs": [
    {
     "data": {
      "text/plain": [
       "str"
      ]
     },
     "execution_count": 133,
     "metadata": {},
     "output_type": "execute_result"
    }
   ],
   "source": [
    "type(\"4+9\")"
   ]
  },
  {
   "cell_type": "code",
   "execution_count": 134,
   "id": "3944edb0",
   "metadata": {},
   "outputs": [],
   "source": [
    "a = 3"
   ]
  },
  {
   "cell_type": "code",
   "execution_count": 135,
   "id": "3955b5ad",
   "metadata": {},
   "outputs": [],
   "source": [
    "b = 4"
   ]
  },
  {
   "cell_type": "code",
   "execution_count": 136,
   "id": "4dcfa311",
   "metadata": {},
   "outputs": [
    {
     "ename": "NameError",
     "evalue": "name 'ab' is not defined",
     "output_type": "error",
     "traceback": [
      "\u001b[1;31m---------------------------------------------------------------------------\u001b[0m",
      "\u001b[1;31mNameError\u001b[0m                                 Traceback (most recent call last)",
      "\u001b[1;32m~\\AppData\\Local\\Temp\\ipykernel_10432\\2805137849.py\u001b[0m in \u001b[0;36m<module>\u001b[1;34m\u001b[0m\n\u001b[1;32m----> 1\u001b[1;33m \u001b[0mab\u001b[0m\u001b[1;33m\u001b[0m\u001b[1;33m\u001b[0m\u001b[0m\n\u001b[0m",
      "\u001b[1;31mNameError\u001b[0m: name 'ab' is not defined"
     ]
    }
   ],
   "source": [
    "ab"
   ]
  },
  {
   "cell_type": "code",
   "execution_count": 137,
   "id": "9fd25dcd",
   "metadata": {},
   "outputs": [
    {
     "data": {
      "text/plain": [
       "7"
      ]
     },
     "execution_count": 137,
     "metadata": {},
     "output_type": "execute_result"
    }
   ],
   "source": [
    "a + b"
   ]
  },
  {
   "cell_type": "code",
   "execution_count": 138,
   "id": "e327300b",
   "metadata": {},
   "outputs": [
    {
     "ename": "SyntaxError",
     "evalue": "invalid syntax (3922453199.py, line 1)",
     "output_type": "error",
     "traceback": [
      "\u001b[1;36m  File \u001b[1;32m\"C:\\Users\\pir23oguz\\AppData\\Local\\Temp\\ipykernel_10432\\3922453199.py\"\u001b[1;36m, line \u001b[1;32m1\u001b[0m\n\u001b[1;33m    \"bana/\" goree\"\u001b[0m\n\u001b[1;37m            ^\u001b[0m\n\u001b[1;31mSyntaxError\u001b[0m\u001b[1;31m:\u001b[0m invalid syntax\n"
     ]
    }
   ],
   "source": [
    "\"bana/\" goree\""
   ]
  },
  {
   "cell_type": "code",
   "execution_count": 139,
   "id": "f7c4df97",
   "metadata": {},
   "outputs": [
    {
     "ename": "NameError",
     "evalue": "name 'd' is not defined",
     "output_type": "error",
     "traceback": [
      "\u001b[1;31m---------------------------------------------------------------------------\u001b[0m",
      "\u001b[1;31mNameError\u001b[0m                                 Traceback (most recent call last)",
      "\u001b[1;32m~\\AppData\\Local\\Temp\\ipykernel_10432\\1152398069.py\u001b[0m in \u001b[0;36m<module>\u001b[1;34m\u001b[0m\n\u001b[1;32m----> 1\u001b[1;33m \u001b[0mprint\u001b[0m\u001b[1;33m(\u001b[0m\u001b[0md\u001b[0m\u001b[1;33m)\u001b[0m\u001b[1;33m\u001b[0m\u001b[1;33m\u001b[0m\u001b[0m\n\u001b[0m",
      "\u001b[1;31mNameError\u001b[0m: name 'd' is not defined"
     ]
    }
   ],
   "source": [
    "print(d)"
   ]
  },
  {
   "cell_type": "code",
   "execution_count": 141,
   "id": "56939451",
   "metadata": {},
   "outputs": [
    {
     "data": {
      "text/plain": [
       "'bana\" goree'"
      ]
     },
     "execution_count": 141,
     "metadata": {},
     "output_type": "execute_result"
    }
   ],
   "source": [
    "\"bana\\\" goree\""
   ]
  },
  {
   "cell_type": "code",
   "execution_count": 145,
   "id": "b4d557fc",
   "metadata": {},
   "outputs": [
    {
     "data": {
      "text/plain": [
       "'bana\" goree'"
      ]
     },
     "execution_count": 145,
     "metadata": {},
     "output_type": "execute_result"
    }
   ],
   "source": [
    "'bana\\\" goree'"
   ]
  },
  {
   "cell_type": "code",
   "execution_count": 146,
   "id": "85d4cd2a",
   "metadata": {},
   "outputs": [
    {
     "data": {
      "text/plain": [
       "'bana\\\\ \" goree'"
      ]
     },
     "execution_count": 146,
     "metadata": {},
     "output_type": "execute_result"
    }
   ],
   "source": [
    "'bana\\ \" goree'"
   ]
  },
  {
   "cell_type": "code",
   "execution_count": 147,
   "id": "41c5b495",
   "metadata": {},
   "outputs": [
    {
     "ename": "SyntaxError",
     "evalue": "unexpected character after line continuation character (3565515929.py, line 1)",
     "output_type": "error",
     "traceback": [
      "\u001b[1;36m  File \u001b[1;32m\"C:\\Users\\pir23oguz\\AppData\\Local\\Temp\\ipykernel_10432\\3565515929.py\"\u001b[1;36m, line \u001b[1;32m1\u001b[0m\n\u001b[1;33m    á\\n\u001b[0m\n\u001b[1;37m      ^\u001b[0m\n\u001b[1;31mSyntaxError\u001b[0m\u001b[1;31m:\u001b[0m unexpected character after line continuation character\n"
     ]
    }
   ],
   "source": [
    "á\\n"
   ]
  },
  {
   "cell_type": "code",
   "execution_count": 150,
   "id": "33f5b2ec",
   "metadata": {},
   "outputs": [
    {
     "data": {
      "text/plain": [
       "'a \\n d'"
      ]
     },
     "execution_count": 150,
     "metadata": {},
     "output_type": "execute_result"
    }
   ],
   "source": [
    "'a \\n d'\n"
   ]
  },
  {
   "cell_type": "code",
   "execution_count": 151,
   "id": "fec9ba7e",
   "metadata": {},
   "outputs": [
    {
     "name": "stdout",
     "output_type": "stream",
     "text": [
      "a \n",
      " d\n"
     ]
    }
   ],
   "source": [
    "print('a \\n d')"
   ]
  },
  {
   "cell_type": "code",
   "execution_count": 152,
   "id": "18abcaeb",
   "metadata": {},
   "outputs": [
    {
     "name": "stdout",
     "output_type": "stream",
     "text": [
      "a \n",
      "d\n"
     ]
    }
   ],
   "source": [
    "print('a \\nd')"
   ]
  },
  {
   "cell_type": "code",
   "execution_count": 153,
   "id": "fb02f135",
   "metadata": {},
   "outputs": [
    {
     "name": "stdout",
     "output_type": "stream",
     "text": [
      "a\n",
      " d\n"
     ]
    }
   ],
   "source": [
    "print('a\\n d')"
   ]
  },
  {
   "cell_type": "code",
   "execution_count": 154,
   "id": "9754f61f",
   "metadata": {},
   "outputs": [
    {
     "name": "stdout",
     "output_type": "stream",
     "text": [
      "a     \n",
      "d\n"
     ]
    }
   ],
   "source": [
    "print('a     \\nd')"
   ]
  },
  {
   "cell_type": "code",
   "execution_count": 155,
   "id": "792e98c4",
   "metadata": {},
   "outputs": [
    {
     "name": "stdout",
     "output_type": "stream",
     "text": [
      "a \n",
      "      d\n"
     ]
    }
   ],
   "source": [
    "print('a \\n      d')"
   ]
  },
  {
   "cell_type": "code",
   "execution_count": 156,
   "id": "f768b009",
   "metadata": {},
   "outputs": [
    {
     "name": "stdout",
     "output_type": "stream",
     "text": [
      "a \td\n"
     ]
    }
   ],
   "source": [
    "print('a \\td')"
   ]
  },
  {
   "cell_type": "code",
   "execution_count": 157,
   "id": "1331b6c0",
   "metadata": {},
   "outputs": [
    {
     "name": "stdout",
     "output_type": "stream",
     "text": [
      "a\td\n"
     ]
    }
   ],
   "source": [
    "print('a\\td')"
   ]
  },
  {
   "cell_type": "code",
   "execution_count": 158,
   "id": "1eac381d",
   "metadata": {},
   "outputs": [
    {
     "name": "stdout",
     "output_type": "stream",
     "text": [
      "a \t    d\n"
     ]
    }
   ],
   "source": [
    "print('a \\t    d')"
   ]
  },
  {
   "cell_type": "code",
   "execution_count": 159,
   "id": "0eb9b7b0",
   "metadata": {},
   "outputs": [
    {
     "name": "stdout",
     "output_type": "stream",
     "text": [
      "a \\td\n"
     ]
    }
   ],
   "source": [
    "print('a \\\\td')"
   ]
  },
  {
   "cell_type": "code",
   "execution_count": 160,
   "id": "6d38e194",
   "metadata": {},
   "outputs": [
    {
     "name": "stdout",
     "output_type": "stream",
     "text": [
      "a \\nd\n"
     ]
    }
   ],
   "source": [
    "print('a \\\\nd')"
   ]
  },
  {
   "cell_type": "code",
   "execution_count": null,
   "id": "918b1fb0",
   "metadata": {},
   "outputs": [],
   "source": []
  },
  {
   "cell_type": "code",
   "execution_count": null,
   "id": "d882e49e",
   "metadata": {},
   "outputs": [],
   "source": []
  }
 ],
 "metadata": {
  "kernelspec": {
   "display_name": "Python 3 (ipykernel)",
   "language": "python",
   "name": "python3"
  },
  "language_info": {
   "codemirror_mode": {
    "name": "ipython",
    "version": 3
   },
   "file_extension": ".py",
   "mimetype": "text/x-python",
   "name": "python",
   "nbconvert_exporter": "python",
   "pygments_lexer": "ipython3",
   "version": "3.9.13"
  }
 },
 "nbformat": 4,
 "nbformat_minor": 5
}
