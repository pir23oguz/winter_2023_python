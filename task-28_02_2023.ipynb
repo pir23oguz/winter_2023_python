{
 "cells": [
  {
   "cell_type": "code",
   "execution_count": 1,
   "metadata": {},
   "outputs": [
    {
     "data": {
      "text/plain": [
       "9"
      ]
     },
     "execution_count": 1,
     "metadata": {},
     "output_type": "execute_result"
    }
   ],
   "source": [
    "4 + 5"
   ]
  },
  {
   "cell_type": "code",
   "execution_count": 2,
   "metadata": {},
   "outputs": [
    {
     "data": {
      "text/plain": [
       "'techpro'"
      ]
     },
     "execution_count": 2,
     "metadata": {},
     "output_type": "execute_result"
    }
   ],
   "source": [
    "\"techpro\""
   ]
  },
  {
   "cell_type": "code",
   "execution_count": 3,
   "metadata": {},
   "outputs": [
    {
     "name": "stdout",
     "output_type": "stream",
     "text": [
      "0\n",
      "1\n",
      "2\n",
      "3\n",
      "4\n"
     ]
    }
   ],
   "source": [
    "x = 0\n",
    "while x < 5:\n",
    "    print(x)\n",
    "    x += 1"
   ]
  },
  {
   "cell_type": "code",
   "execution_count": null,
   "metadata": {},
   "outputs": [],
   "source": [
    "#sonsuz dongu\n",
    "while True:\n",
    "    print(\"Sonsuz dongu\")"
   ]
  },
  {
   "cell_type": "code",
   "execution_count": null,
   "metadata": {},
   "outputs": [],
   "source": [
    "#sonsuz dongu\n",
    "while 5 > 2:\n",
    "    print(\"5 2 den buyuktur\")"
   ]
  },
  {
   "cell_type": "code",
   "execution_count": 10,
   "metadata": {},
   "outputs": [
    {
     "name": "stdout",
     "output_type": "stream",
     "text": [
      "0\n",
      "2\n",
      "4\n",
      "6\n",
      "8\n"
     ]
    }
   ],
   "source": [
    "i = 0\n",
    "while i < 9:\n",
    "    print(i)\n",
    "    i += 2"
   ]
  },
  {
   "cell_type": "code",
   "execution_count": 11,
   "metadata": {},
   "outputs": [
    {
     "name": "stdout",
     "output_type": "stream",
     "text": [
      "10\n",
      "15\n",
      "20\n",
      "25\n",
      "30\n",
      "35\n",
      "40\n",
      "45\n",
      "50\n",
      "55\n",
      "60\n",
      "65\n",
      "70\n",
      "75\n",
      "80\n",
      "85\n",
      "90\n",
      "95\n"
     ]
    }
   ],
   "source": [
    "x = 10\n",
    "while x < 100:\n",
    "    print(x)\n",
    "    x += 5"
   ]
  },
  {
   "cell_type": "code",
   "execution_count": 12,
   "metadata": {},
   "outputs": [
    {
     "name": "stdout",
     "output_type": "stream",
     "text": [
      "10\n",
      "15\n",
      "20\n",
      "25\n",
      "30\n",
      "35\n",
      "40\n",
      "45\n",
      "50\n",
      "55\n",
      "60\n",
      "65\n",
      "70\n",
      "75\n",
      "80\n",
      "85\n",
      "90\n",
      "95\n",
      "100\n"
     ]
    }
   ],
   "source": [
    "x = 10\n",
    "while x <= 100:\n",
    "    print(x)\n",
    "    x += 5"
   ]
  },
  {
   "cell_type": "code",
   "execution_count": 16,
   "metadata": {},
   "outputs": [
    {
     "name": "stdout",
     "output_type": "stream",
     "text": [
      "While a false olana kadar calisir\n"
     ]
    }
   ],
   "source": [
    "a = True\n",
    "while a:\n",
    "    print(\"While a false olana kadar calisir\")\n",
    "    a = False"
   ]
  },
  {
   "cell_type": "code",
   "execution_count": 20,
   "metadata": {},
   "outputs": [
    {
     "name": "stdout",
     "output_type": "stream",
     "text": [
      "0\n",
      "Dongunun sonu\n",
      "1\n",
      "Dongunun sonu\n",
      "2\n",
      "Dongunun sonu\n",
      "3\n",
      "Dongunun sonu\n",
      "4\n",
      "Dongunun sonu\n",
      "5\n",
      "Dongunun sonu\n",
      "6\n",
      "Dongunun sonu\n",
      "7\n",
      "Dongunun sonu\n",
      "8\n",
      "Dongunun sonu\n",
      "9\n",
      "Dongunun sonu\n"
     ]
    }
   ],
   "source": [
    "x = 0\n",
    "while x < 10:\n",
    "    print(x)\n",
    "    x = x + 1\n",
    "    print(\"Dongunun sonu\")\n"
   ]
  },
  {
   "cell_type": "code",
   "execution_count": 21,
   "metadata": {},
   "outputs": [
    {
     "name": "stdout",
     "output_type": "stream",
     "text": [
      "0\n",
      "1\n",
      "2\n",
      "3\n",
      "4\n",
      "5\n",
      "6\n",
      "7\n",
      "8\n",
      "9\n",
      "Dongunun sonu\n"
     ]
    }
   ],
   "source": [
    "x = 0\n",
    "while x < 10:\n",
    "    print(x)\n",
    "    x = x + 1\n",
    "print(\"Dongunun sonu\")"
   ]
  },
  {
   "cell_type": "code",
   "execution_count": 25,
   "metadata": {},
   "outputs": [
    {
     "name": "stdout",
     "output_type": "stream",
     "text": [
      "0\n",
      "1\n",
      "2\n",
      "3\n",
      "4\n",
      "5\n",
      "6\n",
      "7\n",
      "8\n",
      "9\n",
      "10\n"
     ]
    }
   ],
   "source": [
    "liste = [1,2,3,4,5,6,7,8,9,10]\n",
    "\n",
    "x = 0\n",
    "while x <= len(liste):\n",
    "    print(x)\n",
    "    x = x+1"
   ]
  },
  {
   "cell_type": "code",
   "execution_count": 24,
   "metadata": {},
   "outputs": [
    {
     "name": "stdout",
     "output_type": "stream",
     "text": [
      "1\n",
      "4\n",
      "9\n",
      "16\n",
      "25\n",
      "36\n",
      "49\n",
      "64\n",
      "81\n",
      "100\n"
     ]
    }
   ],
   "source": [
    "liste = [1,2,3,4,5,6,7,8,9,10]\n",
    "\n",
    "x = 0\n",
    "while x < len(liste):\n",
    "    print(liste[x] ** 2)\n",
    "    x +=1"
   ]
  },
  {
   "cell_type": "code",
   "execution_count": 26,
   "metadata": {},
   "outputs": [
    {
     "name": "stdout",
     "output_type": "stream",
     "text": [
      "1\n",
      "9\n",
      "25\n",
      "49\n",
      "81\n"
     ]
    }
   ],
   "source": [
    "liste = [1,2,3,4,5,6,7,8,9,10]\n",
    "\n",
    "x = 0\n",
    "while x < len(liste):\n",
    "    print(liste[x] ** 2)\n",
    "    x += 2"
   ]
  },
  {
   "cell_type": "code",
   "execution_count": 31,
   "metadata": {},
   "outputs": [
    {
     "name": "stdout",
     "output_type": "stream",
     "text": [
      "1\n",
      "36\n",
      "121\n"
     ]
    }
   ],
   "source": [
    "liste = [1,2,3,4,5,6,7,8,9,10,11]\n",
    "\n",
    "x = 0\n",
    "while x <= len(liste):\n",
    "    print(liste[x] ** 2)\n",
    "    x += 5"
   ]
  },
  {
   "cell_type": "code",
   "execution_count": 36,
   "metadata": {},
   "outputs": [
    {
     "name": "stdout",
     "output_type": "stream",
     "text": [
      "1\n",
      "36\n",
      "121\n"
     ]
    }
   ],
   "source": [
    "liste = [1,2,3,4,5,6,7,8,9,10,11]\n",
    "\n",
    "x = 0\n",
    "while x <= len(liste):\n",
    "    print(liste[x] ** 2)\n",
    "    x += 5"
   ]
  },
  {
   "cell_type": "code",
   "execution_count": 38,
   "metadata": {},
   "outputs": [
    {
     "name": "stdout",
     "output_type": "stream",
     "text": [
      "1\n",
      "36\n"
     ]
    }
   ],
   "source": [
    "x = 1\n",
    "while x <= 10:\n",
    "    print(x ** 2)\n",
    "    x += 5"
   ]
  },
  {
   "cell_type": "code",
   "execution_count": 1,
   "metadata": {},
   "outputs": [
    {
     "name": "stdout",
     "output_type": "stream",
     "text": [
      "girdiginiz sayi 45. Bravo Dogru tahmin\n"
     ]
    }
   ],
   "source": [
    "sayi = 45\n",
    "while True:\n",
    "    tahmin = int(input(\"Bir sayi giriniz:\"))\n",
    "\n",
    "    if sayi < tahmin:\n",
    "        print(f\"Girdiginiz sayi {tahmin}. Tahminini azalt\")\n",
    "    elif sayi > tahmin:\n",
    "        print(f\"Girdiginiz sayi {Tahmin}. Tahminini arttir\")\n",
    "    else:\n",
    "        print(f\"girdiginiz sayi {tahmin}. Bravo Dogru tahmin\")\n",
    "        break"
   ]
  },
  {
   "cell_type": "code",
   "execution_count": 3,
   "metadata": {},
   "outputs": [
    {
     "name": "stdout",
     "output_type": "stream",
     "text": [
      "Girdiginiz sayi 85. Tahminini azalt\n",
      "Girdiginiz sayi 78. Tahminini azalt\n",
      "Girdiginiz sayi 65. Tahminini azalt\n",
      "Girdiginiz sayi 99. Tahminini azalt\n",
      "girdiginiz sayi 45. Bravo Dogru tahmin\n",
      "5 denemede bildin\n"
     ]
    }
   ],
   "source": [
    "sayi = 45\n",
    "sayac = 0\n",
    "while True:\n",
    "    sayac += 1\n",
    "    tahmin = int(input(\"Bir sayi giriniz:\"))\n",
    "\n",
    "    if sayi < tahmin:\n",
    "        print(f\"Girdiginiz sayi {tahmin}. Tahminini azalt\")\n",
    "    elif sayi > tahmin:\n",
    "        print(f\"Girdiginiz sayi {Tahmin}. Tahminini arttir\")\n",
    "    else:\n",
    "        print(f\"girdiginiz sayi {tahmin}. Bravo Dogru tahmin\")\n",
    "        break\n",
    "print(f\"{sayac} denemede bildin\")"
   ]
  },
  {
   "cell_type": "code",
   "execution_count": null,
   "metadata": {},
   "outputs": [],
   "source": [
    "sayi = 45\n",
    "sayac = 0\n",
    "while True:\n",
    "    sayac += 1\n",
    "    tahmin = int(input(\"Bir sayi giriniz:\"))\n",
    "\n",
    "    if sayi < tahmin:\n",
    "        print(f\"Girdiginiz sayi {tahmin}. Tahminini azalt\")\n",
    "    elif sayi > tahmin:\n",
    "        print(f\"Girdiginiz sayi {Tahmin}. Tahminini arttir\")\n",
    "    else:\n",
    "        print(f\"girdiginiz sayi {tahmin}. Bravo Dogru tahmin\")\n",
    "        break\n",
    "print(f\"{sayac} denemede bildin\")"
   ]
  },
  {
   "cell_type": "code",
   "execution_count": 5,
   "metadata": {},
   "outputs": [],
   "source": [
    "import random"
   ]
  },
  {
   "cell_type": "code",
   "execution_count": 7,
   "metadata": {},
   "outputs": [
    {
     "name": "stdout",
     "output_type": "stream",
     "text": [
      "Girdiginiz sayi 50. Tahminini azalt\n",
      "Girdiginiz sayi 25. Tahminini azalt\n",
      "Girdiginiz sayi 12. Tahminini azalt\n",
      "girdiginiz sayi 7. Bravo Dogru tahmin\n",
      "4 denemede bildin\n"
     ]
    }
   ],
   "source": [
    "import random\n",
    "sayi = random.randint(0,100)\n",
    "sayac = 0\n",
    "while sayac < 5:\n",
    "    sayac += 1\n",
    "    tahmin = int(input(\"Bir sayi giriniz:\"))\n",
    "\n",
    "    if sayi < tahmin:\n",
    "        print(f\"Girdiginiz sayi {tahmin}. Tahminini azalt\")\n",
    "    elif sayi > tahmin:\n",
    "        print(f\"Girdiginiz sayi {Tahmin}. Tahminini arttir\")\n",
    "    else:\n",
    "        print(f\"girdiginiz sayi {tahmin}. Bravo Dogru tahmin\")\n",
    "        break\n",
    "print(f\"{sayac} denemede bildin\")"
   ]
  },
  {
   "cell_type": "code",
   "execution_count": null,
   "metadata": {},
   "outputs": [],
   "source": []
  },
  {
   "cell_type": "code",
   "execution_count": null,
   "metadata": {},
   "outputs": [],
   "source": []
  },
  {
   "cell_type": "code",
   "execution_count": null,
   "metadata": {},
   "outputs": [],
   "source": []
  },
  {
   "cell_type": "code",
   "execution_count": null,
   "metadata": {},
   "outputs": [],
   "source": []
  },
  {
   "cell_type": "code",
   "execution_count": null,
   "metadata": {},
   "outputs": [],
   "source": []
  }
 ],
 "metadata": {
  "kernelspec": {
   "display_name": "Python 3",
   "language": "python",
   "name": "python3"
  },
  "language_info": {
   "codemirror_mode": {
    "name": "ipython",
    "version": 3
   },
   "file_extension": ".py",
   "mimetype": "text/x-python",
   "name": "python",
   "nbconvert_exporter": "python",
   "pygments_lexer": "ipython3",
   "version": "3.11.2"
  },
  "orig_nbformat": 4,
  "vscode": {
   "interpreter": {
    "hash": "b6f6a7bb10ba9d8da24679aa7c156bc8c77d63457212bc849342bf9244f013b6"
   }
  }
 },
 "nbformat": 4,
 "nbformat_minor": 2
}
