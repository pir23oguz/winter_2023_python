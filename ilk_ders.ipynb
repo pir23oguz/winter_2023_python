{
 "cells": [
  {
   "cell_type": "code",
   "execution_count": 2,
   "id": "9546b533",
   "metadata": {},
   "outputs": [
    {
     "data": {
      "text/plain": [
       "10"
      ]
     },
     "execution_count": 2,
     "metadata": {},
     "output_type": "execute_result"
    }
   ],
   "source": [
    "5+5"
   ]
  },
  {
   "cell_type": "code",
   "execution_count": 4,
   "id": "ad49a822",
   "metadata": {},
   "outputs": [
    {
     "data": {
      "text/plain": [
       "49"
      ]
     },
     "execution_count": 4,
     "metadata": {},
     "output_type": "execute_result"
    }
   ],
   "source": [
    "7**2"
   ]
  },
  {
   "cell_type": "code",
   "execution_count": 5,
   "id": "a8faa86a",
   "metadata": {},
   "outputs": [
    {
     "data": {
      "text/plain": [
       "30"
      ]
     },
     "execution_count": 5,
     "metadata": {},
     "output_type": "execute_result"
    }
   ],
   "source": [
    "x=5\n",
    "x*6"
   ]
  },
  {
   "cell_type": "code",
   "execution_count": 1,
   "id": "209b63a1",
   "metadata": {},
   "outputs": [
    {
     "name": "stdout",
     "output_type": "stream",
     "text": [
      "3\n"
     ]
    }
   ],
   "source": [
    "a = int(input(\"Dört basamaklı sayı giriniz:\"))\n",
    "b = int(input(\"Dört basamaklı sayı giriniz:\"))\n",
    "c = int(input(\"Dört basamaklı sayı giriniz:\"))\n",
    "d = int(input(\"Dört basamaklı sayı giriniz:\"))\n",
    "toplam = str(a + b + c + d)\n",
    "print(toplam[-2])"
   ]
  },
  {
   "cell_type": "code",
   "execution_count": 2,
   "id": "c594236d",
   "metadata": {},
   "outputs": [
    {
     "name": "stdout",
     "output_type": "stream",
     "text": [
      "4936\n",
      "3\n"
     ]
    }
   ],
   "source": [
    "x = int(input(\"Bir dort basamakli sayi giriniz:\"))\n",
    "y = int(input(\"ikinci dort basamakli sayi giriniz:\"))\n",
    "z = int(input(\"ucuncu dort basamakli sayi giriniz:\"))\n",
    "t = int(input(\"dorduncu dort basamakli sayi giriniz:\"))\n",
    "top = x + y + z + t\n",
    "str(top)\n",
    "print(top)\n",
    "print(str(top)[-2])"
   ]
  },
  {
   "cell_type": "code",
   "execution_count": null,
   "id": "fa0fa78f",
   "metadata": {},
   "outputs": [],
   "source": []
  }
 ],
 "metadata": {
  "kernelspec": {
   "display_name": "Python 3",
   "language": "python",
   "name": "python3"
  },
  "language_info": {
   "codemirror_mode": {
    "name": "ipython",
    "version": 3
   },
   "file_extension": ".py",
   "mimetype": "text/x-python",
   "name": "python",
   "nbconvert_exporter": "python",
   "pygments_lexer": "ipython3",
   "version": "3.11.1"
  },
  "vscode": {
   "interpreter": {
    "hash": "b6f6a7bb10ba9d8da24679aa7c156bc8c77d63457212bc849342bf9244f013b6"
   }
  }
 },
 "nbformat": 4,
 "nbformat_minor": 5
}
