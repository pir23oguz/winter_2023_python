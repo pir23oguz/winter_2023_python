{
 "cells": [
  {
   "cell_type": "code",
   "execution_count": 2,
   "id": "91511167",
   "metadata": {},
   "outputs": [],
   "source": [
    "merhaba = \"naber\""
   ]
  },
  {
   "cell_type": "code",
   "execution_count": 4,
   "id": "563ae0f7",
   "metadata": {},
   "outputs": [
    {
     "name": "stdout",
     "output_type": "stream",
     "text": [
      "naber\n"
     ]
    }
   ],
   "source": [
    "print(merhaba)"
   ]
  },
  {
   "cell_type": "code",
   "execution_count": 5,
   "id": "54722050",
   "metadata": {},
   "outputs": [
    {
     "data": {
      "text/plain": [
       "'54'"
      ]
     },
     "execution_count": 5,
     "metadata": {},
     "output_type": "execute_result"
    }
   ],
   "source": [
    "\"5\" + '4'"
   ]
  },
  {
   "cell_type": "code",
   "execution_count": 6,
   "id": "a2a02a74",
   "metadata": {},
   "outputs": [
    {
     "name": "stdout",
     "output_type": "stream",
     "text": [
      "54\n"
     ]
    }
   ],
   "source": [
    "print(\"5\" + '4')"
   ]
  },
  {
   "cell_type": "code",
   "execution_count": null,
   "id": "945969d2",
   "metadata": {},
   "outputs": [],
   "source": []
  }
 ],
 "metadata": {
  "kernelspec": {
   "display_name": "Python 3 (ipykernel)",
   "language": "python",
   "name": "python3"
  },
  "language_info": {
   "codemirror_mode": {
    "name": "ipython",
    "version": 3
   },
   "file_extension": ".py",
   "mimetype": "text/x-python",
   "name": "python",
   "nbconvert_exporter": "python",
   "pygments_lexer": "ipython3",
   "version": "3.9.13"
  }
 },
 "nbformat": 4,
 "nbformat_minor": 5
}
