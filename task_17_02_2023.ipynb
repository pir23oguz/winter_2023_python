{
 "cells": [
  {
   "attachments": {},
   "cell_type": "markdown",
   "metadata": {},
   "source": [
    "### task_1 :76860 sanniye kac saat kac dakika ve saniyedir?"
   ]
  },
  {
   "cell_type": "code",
   "execution_count": 1,
   "metadata": {},
   "outputs": [
    {
     "data": {
      "text/plain": [
       "1260"
      ]
     },
     "execution_count": 1,
     "metadata": {},
     "output_type": "execute_result"
    }
   ],
   "source": [
    "x = 76860 // 3600\n",
    "76860 % 3600"
   ]
  },
  {
   "cell_type": "code",
   "execution_count": 3,
   "metadata": {},
   "outputs": [],
   "source": [
    " y = 1260 // 60\n",
    " z = 1260 % 60"
   ]
  },
  {
   "cell_type": "code",
   "execution_count": 4,
   "metadata": {},
   "outputs": [
    {
     "name": "stdout",
     "output_type": "stream",
     "text": [
      "21\n",
      "21\n",
      "0\n"
     ]
    }
   ],
   "source": [
    "print(x)\n",
    "print(y)\n",
    "print(z)"
   ]
  },
  {
   "cell_type": "code",
   "execution_count": 6,
   "metadata": {},
   "outputs": [
    {
     "name": "stdout",
     "output_type": "stream",
     "text": [
      "21\n",
      "21\n",
      "0\n"
     ]
    }
   ],
   "source": [
    "x = 76860 // 3600\n",
    "76860 % 3600\n",
    "y = 1260 // 60\n",
    "z = 1260 % 60\n",
    "print(x)\n",
    "print(y)\n",
    "print(z)\n"
   ]
  },
  {
   "cell_type": "code",
   "execution_count": 7,
   "metadata": {},
   "outputs": [
    {
     "name": "stdout",
     "output_type": "stream",
     "text": [
      "21 saat 21 dakika 0 saniye\n"
     ]
    }
   ],
   "source": [
    "print(x, \"saat\", y, \"dakika\", z , \"saniye\")"
   ]
  },
  {
   "cell_type": "code",
   "execution_count": 9,
   "metadata": {},
   "outputs": [
    {
     "name": "stdout",
     "output_type": "stream",
     "text": [
      "8785 saniye = 2 saat 26 dakika 25 saniye eder\n"
     ]
    }
   ],
   "source": [
    "# 8785 sn kac saat kac dakika ve kac sn eder?\n",
    "verilen_saniye = 8785\n",
    "saat = verilen_saniye // 3600 # 1 saat 60 dk veya 3600 sn dir\n",
    "dakika = (verilen_saniye % 3600) // 60\n",
    "saniye = (verilen_saniye % 3600) % 60\n",
    "print(verilen_saniye, \"saniye =\",saat,\"saat\", dakika, \"dakika\",saniye,\"saniye eder\")"
   ]
  },
  {
   "cell_type": "code",
   "execution_count": 12,
   "metadata": {},
   "outputs": [
    {
     "name": "stdout",
     "output_type": "stream",
     "text": [
      "8785 saniye; 2 saat 26 dakika 25 saniye eder\n"
     ]
    }
   ],
   "source": [
    "print(f\"{verilen_saniye} saniye; {saat} saat {dakika} dakika {saniye} saniye eder\")"
   ]
  },
  {
   "cell_type": "code",
   "execution_count": 11,
   "metadata": {},
   "outputs": [
    {
     "name": "stdout",
     "output_type": "stream",
     "text": [
      "None or 1\n"
     ]
    }
   ],
   "source": [
    "print(\"None or 1\")"
   ]
  },
  {
   "cell_type": "code",
   "execution_count": 13,
   "metadata": {},
   "outputs": [
    {
     "ename": "NameError",
     "evalue": "name 'sanise' is not defined",
     "output_type": "error",
     "traceback": [
      "\u001b[1;31m---------------------------------------------------------------------------\u001b[0m",
      "\u001b[1;31mNameError\u001b[0m                                 Traceback (most recent call last)",
      "Cell \u001b[1;32mIn[13], line 1\u001b[0m\n\u001b[1;32m----> 1\u001b[0m \u001b[39mprint\u001b[39m(\u001b[39mf\u001b[39m\u001b[39m\"\u001b[39m\u001b[39m{\u001b[39;00mverilen_saniye\u001b[39m}\u001b[39;00m\u001b[39m saniye; \u001b[39m\u001b[39m{\u001b[39;00msaat\u001b[39m}\u001b[39;00m\u001b[39m saat \u001b[39m\u001b[39m{\u001b[39;00msanise\u001b[39m}\u001b[39;00m\u001b[39m dakika \u001b[39m\u001b[39m{\u001b[39;00msaniye\u001b[39m}\u001b[39;00m\u001b[39m saniye eder\u001b[39m\u001b[39m\"\u001b[39m)\n",
      "\u001b[1;31mNameError\u001b[0m: name 'sanise' is not defined"
     ]
    }
   ],
   "source": [
    "print(f\"{verilen_saniye} saniye; {saat} saat {sanise} dakika {saniye} saniye eder\")"
   ]
  },
  {
   "cell_type": "code",
   "execution_count": 18,
   "metadata": {},
   "outputs": [
    {
     "name": "stdout",
     "output_type": "stream",
     "text": [
      "8785 saniye = 2 saat 26 dakika 25 saniye eder\n",
      "8785 saniye; 2 saat 26 dakika 25 saniye eder\n",
      "8785 saniye; 2 saat 26 dakika 25 saniye eder\n",
      "8785 saniye; 2 saat 26 dakika 25 saniye eder\n"
     ]
    }
   ],
   "source": [
    "# 8785 sn kac saat kac dakika ve kac sn eder?\n",
    "verilen_saniye = 8785\n",
    "saat = verilen_saniye // 3600 # 1 saat 60 dk veya 3600 sn dir\n",
    "dakika = (verilen_saniye % 3600) // 60\n",
    "saniye = (verilen_saniye % 3600) % 60\n",
    "print(verilen_saniye, \"saniye =\",saat,\"saat\", dakika, \"dakika\",saniye,\"saniye eder\")\n",
    "print(f\"{verilen_saniye} saniye; {saat} saat {dakika} dakika {saniye} saniye eder\")\n",
    "print(\"{} saniye; {} saat {} dakika {} saniye eder\".format(verilen_saniye,saat,dakika,saniye,))\n",
    "print(\"{} saniye; {} saat {} dakika {} saniye eder\".format(verilen_saniye,saat,dakika,saniye,saat))\n"
   ]
  },
  {
   "attachments": {},
   "cell_type": "markdown",
   "metadata": {},
   "source": [
    "## len()"
   ]
  },
  {
   "cell_type": "code",
   "execution_count": 19,
   "metadata": {},
   "outputs": [
    {
     "data": {
      "text/plain": [
       "7"
      ]
     },
     "execution_count": 19,
     "metadata": {},
     "output_type": "execute_result"
    }
   ],
   "source": [
    "\"Techpro\"\n",
    "len(\"Techpro\")"
   ]
  },
  {
   "cell_type": "code",
   "execution_count": 22,
   "metadata": {},
   "outputs": [
    {
     "data": {
      "text/plain": [
       "'Meh'"
      ]
     },
     "execution_count": 22,
     "metadata": {},
     "output_type": "execute_result"
    }
   ],
   "source": [
    "name = \"Mehmet\"\n",
    "\"Mehmet\"[:len(name) // 2]"
   ]
  },
  {
   "cell_type": "code",
   "execution_count": 23,
   "metadata": {},
   "outputs": [
    {
     "data": {
      "text/plain": [
       "'met'"
      ]
     },
     "execution_count": 23,
     "metadata": {},
     "output_type": "execute_result"
    }
   ],
   "source": [
    "name = \"Mehmet\"\n",
    "\"Mehmet\"[len(name) // 2:]"
   ]
  },
  {
   "cell_type": "code",
   "execution_count": 26,
   "metadata": {},
   "outputs": [
    {
     "data": {
      "text/plain": [
       "'met'"
      ]
     },
     "execution_count": 26,
     "metadata": {},
     "output_type": "execute_result"
    }
   ],
   "source": [
    "name[len(name) // 2:]"
   ]
  },
  {
   "cell_type": "code",
   "execution_count": 32,
   "metadata": {},
   "outputs": [],
   "source": [
    "str1 = \"sari\"\n",
    "str2 = \"mehmet\"  # \"samehmetri\""
   ]
  },
  {
   "cell_type": "code",
   "execution_count": 37,
   "metadata": {},
   "outputs": [
    {
     "data": {
      "text/plain": [
       "'samehmetri'"
      ]
     },
     "execution_count": 37,
     "metadata": {},
     "output_type": "execute_result"
    }
   ],
   "source": [
    "ilk_bolum = str1[:(len(str1) // 2)]\n",
    "son_bolum = str1[(len(str1) // 2):]\n",
    "sonuc = ilk_bolum + str2 + son_bolum\n",
    "sonuc"
   ]
  },
  {
   "cell_type": "code",
   "execution_count": 39,
   "metadata": {},
   "outputs": [
    {
     "name": "stdout",
     "output_type": "stream",
     "text": [
      "samehmetri\n"
     ]
    }
   ],
   "source": [
    "str1 = \"sari\"\n",
    "str2 = \"mehmet\"  # \"samehmetri\"\n",
    "ilk_bolum = str1[:(len(str1) // 2)]\n",
    "son_bolum = str1[(len(str1) // 2):]\n",
    "sonuc = ilk_bolum + str2 + son_bolum\n",
    "sonuc\n",
    "print(sonuc)"
   ]
  },
  {
   "cell_type": "code",
   "execution_count": 41,
   "metadata": {},
   "outputs": [
    {
     "name": "stdout",
     "output_type": "stream",
     "text": [
      "Tecbesthpro\n"
     ]
    }
   ],
   "source": [
    "str1 = \"Techpro\"\n",
    "str2 = \"best\"\n",
    "ilk_bolum = str1[:(len(str1) // 2)]\n",
    "son_bolum = str1[(len(str1) // 2):]\n",
    "sonuc = ilk_bolum + str2 + son_bolum\n",
    "print(sonuc)"
   ]
  },
  {
   "cell_type": "code",
   "execution_count": 42,
   "metadata": {},
   "outputs": [
    {
     "data": {
      "text/plain": [
       "7"
      ]
     },
     "execution_count": 42,
     "metadata": {},
     "output_type": "execute_result"
    }
   ],
   "source": [
    "len(str1)"
   ]
  },
  {
   "cell_type": "code",
   "execution_count": null,
   "metadata": {},
   "outputs": [],
   "source": []
  }
 ],
 "metadata": {
  "kernelspec": {
   "display_name": "Python 3",
   "language": "python",
   "name": "python3"
  },
  "language_info": {
   "codemirror_mode": {
    "name": "ipython",
    "version": 3
   },
   "file_extension": ".py",
   "mimetype": "text/x-python",
   "name": "python",
   "nbconvert_exporter": "python",
   "pygments_lexer": "ipython3",
   "version": "3.11.2"
  },
  "orig_nbformat": 4,
  "vscode": {
   "interpreter": {
    "hash": "b6f6a7bb10ba9d8da24679aa7c156bc8c77d63457212bc849342bf9244f013b6"
   }
  }
 },
 "nbformat": 4,
 "nbformat_minor": 2
}
