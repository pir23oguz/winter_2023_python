{
 "cells": [
  {
   "cell_type": "code",
   "execution_count": null,
   "metadata": {},
   "outputs": [],
   "source": [
    "Soru : 0 ile 100 arasında 3 ve 5’e tam bölünen ama 7 bölünemeyen sayıları yazdıran Python kodunu yazınız."
   ]
  },
  {
   "cell_type": "code",
   "execution_count": 1,
   "metadata": {},
   "outputs": [
    {
     "name": "stdout",
     "output_type": "stream",
     "text": [
      "[0, 3, 5, 6, 9, 10, 12, 15, 18, 20, 24, 25, 27, 30, 33, 35, 36, 39, 40, 45, 48, 50, 51, 54, 55, 57, 60, 65, 66, 69, 70, 72, 75, 78, 80, 81, 85, 87, 90, 93, 95, 96, 99]\n"
     ]
    }
   ],
   "source": [
    "a=[]\n",
    "for i in range(100):\n",
    "  if i%5==0 or i%3==0 and i%7 !=0:\n",
    "    a.append(i)\n",
    "  i+=1\n",
    "print(a)"
   ]
  },
  {
   "cell_type": "code",
   "execution_count": null,
   "metadata": {},
   "outputs": [],
   "source": [
    "Sanırım soru biraz hatalı yazılmış . 3 e veya 5 e tam bölünen olsa daha iyi olurdu ."
   ]
  },
  {
   "cell_type": "code",
   "execution_count": 2,
   "metadata": {},
   "outputs": [
    {
     "name": "stdout",
     "output_type": "stream",
     "text": [
      "[15, 30, 45, 60, 75, 90]\n"
     ]
    }
   ],
   "source": [
    "N = 100\n",
    "list = []\n",
    "\n",
    "# 0 ile 100 arasinda (3 ve 5 e bolunen) 15 e #bolunen ama 7 ye bolunmeyen sayilari bulunuz\n",
    "\n",
    "for number in range(0,N):\n",
    "    if number%15 == 0 and number%7!= 0:\n",
    "        list.append(number)\n",
    "print(list)"
   ]
  },
  {
   "cell_type": "code",
   "execution_count": null,
   "metadata": {},
   "outputs": [],
   "source": [
    "Kullanıcıdan alınan sayının en büyük rakamını bulan bir program yazınız!"
   ]
  },
  {
   "cell_type": "code",
   "execution_count": 3,
   "metadata": {},
   "outputs": [
    {
     "name": "stdout",
     "output_type": "stream",
     "text": [
      "89\n"
     ]
    }
   ],
   "source": [
    "num_1=input(\"Enter a number: \")\n",
    "num_2=input(\"Enter a number: \")\n",
    "print(max(num_1 ,num_2))"
   ]
  },
  {
   "cell_type": "code",
   "execution_count": null,
   "metadata": {},
   "outputs": [],
   "source": []
  }
 ],
 "metadata": {
  "kernelspec": {
   "display_name": "Python 3",
   "language": "python",
   "name": "python3"
  },
  "language_info": {
   "codemirror_mode": {
    "name": "ipython",
    "version": 3
   },
   "file_extension": ".py",
   "mimetype": "text/x-python",
   "name": "python",
   "nbconvert_exporter": "python",
   "pygments_lexer": "ipython3",
   "version": "3.11.2"
  },
  "orig_nbformat": 4,
  "vscode": {
   "interpreter": {
    "hash": "b6f6a7bb10ba9d8da24679aa7c156bc8c77d63457212bc849342bf9244f013b6"
   }
  }
 },
 "nbformat": 4,
 "nbformat_minor": 2
}
