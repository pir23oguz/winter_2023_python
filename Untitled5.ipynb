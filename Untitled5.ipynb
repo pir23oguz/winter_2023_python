{
 "cells": [
  {
   "cell_type": "markdown",
   "id": "d10774dd",
   "metadata": {},
   "source": [
    "# Nümerik Veri Tiplerinde Karşılaştırma:"
   ]
  },
  {
   "cell_type": "markdown",
   "id": "de25e169",
   "metadata": {},
   "source": [
    "\n",
    "* Bir programın farklı durumlar olduğunda başka davranışlar göstermesini isteyebiliriz. Bunun için belirli testler yapmam lazım ve bu testler sonucuca göre farklı davranışlar tasarlamam lazım.\n",
    "\n",
    "\n",
    "* Bu testler için verilerimizi birbirleri ile karşılaştırabilir olmamız lazım. Bunları Comparison Operator'lar (karşılaştırma operatörleri) ile yapacağız. Cevabın True veya False olmasına göre, farklı durumlarda farklı davranacak program tasarlayabiliriz. Bu karşılaştırmalar o programların temelini oluşturacak.\n",
    "\n",
    "\n",
    "* Nümerik veri tiplerinde karşılaştırma deyince aklımıza bir kaç şey gelebilir:\n",
    "\n",
    "\n",
    "* i==j eşitlik testi (equality test). i ve j birbirlerine eşitse bu ifadenin değeri boolean veri objesi True, eşit değilse False olacak. = değişken atama operatörü olarak tanımlandığı için eşitlik test ederken onu kullanırsak ='in sağındaki değere solundaki adı vermiş oluruz.\n",
    "\n",
    "\n",
    "* i!=j eşitsizlik testi (inequality test). i ve j birbirlerine eşit değilse bu ifadenin değeri boolean veri objesi True, eşitse False olacak."
   ]
  },
  {
   "cell_type": "markdown",
   "id": "c4d3f3c6",
   "metadata": {},
   "source": [
    "* i>j i, j'den büyükse bu ifadenin değeri boolean veri objesi True, eşit veya az ise False olacak.\n",
    "\n",
    "\n",
    "* i>=j i, j'den büyükse veya eşitse bu ifadenin değeri boolean veri objesi True, az ise False olacak.\n",
    "\n",
    "\n",
    "* i<j i, j'den küçükse bu ifadenin değeri boolean veri objesi True, eşit veya büyük ise False olacak.\n",
    "\n",
    "\n",
    "* i<=j i, j'den küçükse veya eşitse bu ifadenin değeri boolean veri objesi True, büyük ise False olacak."
   ]
  },
  {
   "cell_type": "markdown",
   "id": "b8bc4f02",
   "metadata": {},
   "source": [
    " ## == Operator"
   ]
  },
  {
   "cell_type": "code",
   "execution_count": 3,
   "id": "5cf4432a",
   "metadata": {},
   "outputs": [
    {
     "data": {
      "text/plain": [
       "False"
      ]
     },
     "execution_count": 3,
     "metadata": {},
     "output_type": "execute_result"
    }
   ],
   "source": [
    "5 == 4"
   ]
  },
  {
   "cell_type": "code",
   "execution_count": 4,
   "id": "b88a7aa5",
   "metadata": {},
   "outputs": [
    {
     "data": {
      "text/plain": [
       "True"
      ]
     },
     "execution_count": 4,
     "metadata": {},
     "output_type": "execute_result"
    }
   ],
   "source": [
    "5 == 5"
   ]
  },
  {
   "cell_type": "code",
   "execution_count": 5,
   "id": "20257045",
   "metadata": {},
   "outputs": [],
   "source": [
    "i = 10\n",
    "j = 20"
   ]
  },
  {
   "cell_type": "code",
   "execution_count": 6,
   "id": "82f4114a",
   "metadata": {},
   "outputs": [
    {
     "data": {
      "text/plain": [
       "False"
      ]
     },
     "execution_count": 6,
     "metadata": {},
     "output_type": "execute_result"
    }
   ],
   "source": [
    "i == j"
   ]
  },
  {
   "cell_type": "code",
   "execution_count": 7,
   "id": "850afa53",
   "metadata": {},
   "outputs": [],
   "source": [
    "j = 10"
   ]
  },
  {
   "cell_type": "code",
   "execution_count": 8,
   "id": "f6e76f3f",
   "metadata": {},
   "outputs": [
    {
     "data": {
      "text/plain": [
       "True"
      ]
     },
     "execution_count": 8,
     "metadata": {},
     "output_type": "execute_result"
    }
   ],
   "source": [
    "i == j"
   ]
  },
  {
   "cell_type": "markdown",
   "id": "61ef520e",
   "metadata": {},
   "source": [
    "* Float veri tipleri için eşitlik karşılaştırması yaparken == kullanılması çok mantıklı değil, bunun nedenini ileriki derslerde göreceğiz."
   ]
  },
  {
   "cell_type": "code",
   "execution_count": 9,
   "id": "8d37f8a2",
   "metadata": {},
   "outputs": [
    {
     "data": {
      "text/plain": [
       "False"
      ]
     },
     "execution_count": 9,
     "metadata": {},
     "output_type": "execute_result"
    }
   ],
   "source": [
    "5.3 == 5.4"
   ]
  },
  {
   "cell_type": "code",
   "execution_count": 10,
   "id": "5bfcaca8",
   "metadata": {},
   "outputs": [
    {
     "data": {
      "text/plain": [
       "True"
      ]
     },
     "execution_count": 10,
     "metadata": {},
     "output_type": "execute_result"
    }
   ],
   "source": [
    "5.4 == 5.4"
   ]
  },
  {
   "cell_type": "code",
   "execution_count": 11,
   "id": "8e96c532",
   "metadata": {},
   "outputs": [
    {
     "data": {
      "text/plain": [
       "False"
      ]
     },
     "execution_count": 11,
     "metadata": {},
     "output_type": "execute_result"
    }
   ],
   "source": [
    "x = (0.3 * 3) + 0.1\n",
    "y = 1.0\n",
    "x == y"
   ]
  },
  {
   "cell_type": "code",
   "execution_count": 12,
   "id": "cea77958",
   "metadata": {},
   "outputs": [
    {
     "data": {
      "text/plain": [
       "0.9999999999999999"
      ]
     },
     "execution_count": 12,
     "metadata": {},
     "output_type": "execute_result"
    }
   ],
   "source": [
    "x"
   ]
  },
  {
   "cell_type": "code",
   "execution_count": 14,
   "id": "b054e0e5",
   "metadata": {},
   "outputs": [
    {
     "data": {
      "text/plain": [
       "1.0"
      ]
     },
     "execution_count": 14,
     "metadata": {},
     "output_type": "execute_result"
    }
   ],
   "source": [
    "y"
   ]
  },
  {
   "cell_type": "markdown",
   "id": "ab2b8c34",
   "metadata": {},
   "source": [
    "## != Operator"
   ]
  },
  {
   "cell_type": "code",
   "execution_count": 15,
   "id": "96822c17",
   "metadata": {},
   "outputs": [
    {
     "data": {
      "text/plain": [
       "True"
      ]
     },
     "execution_count": 15,
     "metadata": {},
     "output_type": "execute_result"
    }
   ],
   "source": [
    "5 != 4"
   ]
  },
  {
   "cell_type": "code",
   "execution_count": 16,
   "id": "be1978d4",
   "metadata": {},
   "outputs": [
    {
     "data": {
      "text/plain": [
       "False"
      ]
     },
     "execution_count": 16,
     "metadata": {},
     "output_type": "execute_result"
    }
   ],
   "source": [
    "5 != 5"
   ]
  },
  {
   "cell_type": "code",
   "execution_count": 17,
   "id": "d6104e31",
   "metadata": {},
   "outputs": [],
   "source": [
    "i = 10\n",
    "j = 20"
   ]
  },
  {
   "cell_type": "code",
   "execution_count": 18,
   "id": "b0bb81c7",
   "metadata": {},
   "outputs": [
    {
     "data": {
      "text/plain": [
       "True"
      ]
     },
     "execution_count": 18,
     "metadata": {},
     "output_type": "execute_result"
    }
   ],
   "source": [
    "i != j"
   ]
  },
  {
   "cell_type": "code",
   "execution_count": 19,
   "id": "9b122e98",
   "metadata": {},
   "outputs": [],
   "source": [
    "j = 10"
   ]
  },
  {
   "cell_type": "code",
   "execution_count": 20,
   "id": "e98a607d",
   "metadata": {},
   "outputs": [
    {
     "data": {
      "text/plain": [
       "False"
      ]
     },
     "execution_count": 20,
     "metadata": {},
     "output_type": "execute_result"
    }
   ],
   "source": [
    "i != j"
   ]
  },
  {
   "cell_type": "code",
   "execution_count": 21,
   "id": "b7c3d436",
   "metadata": {},
   "outputs": [
    {
     "data": {
      "text/plain": [
       "True"
      ]
     },
     "execution_count": 21,
     "metadata": {},
     "output_type": "execute_result"
    }
   ],
   "source": [
    "5 > 4"
   ]
  },
  {
   "cell_type": "code",
   "execution_count": 22,
   "id": "0e8cd621",
   "metadata": {},
   "outputs": [
    {
     "data": {
      "text/plain": [
       "False"
      ]
     },
     "execution_count": 22,
     "metadata": {},
     "output_type": "execute_result"
    }
   ],
   "source": [
    "5 > 5"
   ]
  },
  {
   "cell_type": "code",
   "execution_count": 23,
   "id": "19f2713c",
   "metadata": {},
   "outputs": [],
   "source": [
    "i = 10\n",
    "j = 20"
   ]
  },
  {
   "cell_type": "code",
   "execution_count": 24,
   "id": "0f5b26bb",
   "metadata": {},
   "outputs": [
    {
     "data": {
      "text/plain": [
       "False"
      ]
     },
     "execution_count": 24,
     "metadata": {},
     "output_type": "execute_result"
    }
   ],
   "source": [
    "i > j"
   ]
  },
  {
   "cell_type": "code",
   "execution_count": 25,
   "id": "2510a3ef",
   "metadata": {},
   "outputs": [],
   "source": [
    "j = 5"
   ]
  },
  {
   "cell_type": "code",
   "execution_count": 26,
   "id": "0a389d3a",
   "metadata": {},
   "outputs": [
    {
     "data": {
      "text/plain": [
       "True"
      ]
     },
     "execution_count": 26,
     "metadata": {},
     "output_type": "execute_result"
    }
   ],
   "source": [
    "i > j"
   ]
  },
  {
   "cell_type": "code",
   "execution_count": 27,
   "id": "c4d84eba",
   "metadata": {},
   "outputs": [
    {
     "data": {
      "text/plain": [
       "False"
      ]
     },
     "execution_count": 27,
     "metadata": {},
     "output_type": "execute_result"
    }
   ],
   "source": [
    "5.3 > 5.4 "
   ]
  },
  {
   "cell_type": "code",
   "execution_count": 28,
   "id": "e16151f6",
   "metadata": {},
   "outputs": [
    {
     "data": {
      "text/plain": [
       "True"
      ]
     },
     "execution_count": 28,
     "metadata": {},
     "output_type": "execute_result"
    }
   ],
   "source": [
    "5.4 > 5.3"
   ]
  },
  {
   "cell_type": "markdown",
   "id": "35050a15",
   "metadata": {},
   "source": [
    "## >= Operator"
   ]
  },
  {
   "cell_type": "code",
   "execution_count": null,
   "id": "3891cd49",
   "metadata": {},
   "outputs": [],
   "source": []
  }
 ],
 "metadata": {
  "kernelspec": {
   "display_name": "Python 3 (ipykernel)",
   "language": "python",
   "name": "python3"
  },
  "language_info": {
   "codemirror_mode": {
    "name": "ipython",
    "version": 3
   },
   "file_extension": ".py",
   "mimetype": "text/x-python",
   "name": "python",
   "nbconvert_exporter": "python",
   "pygments_lexer": "ipython3",
   "version": "3.9.13"
  }
 },
 "nbformat": 4,
 "nbformat_minor": 5
}
